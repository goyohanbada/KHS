{
  "nbformat": 4,
  "nbformat_minor": 0,
  "metadata": {
    "colab": {
      "name": "Untitled1.ipynb",
      "provenance": [],
      "collapsed_sections": [],
      "authorship_tag": "ABX9TyNEfHLNely5GdfzbY4Grh99",
      "include_colab_link": true
    },
    "kernelspec": {
      "name": "python3",
      "display_name": "Python 3"
    },
    "language_info": {
      "name": "python"
    }
  },
  "cells": [
    {
      "cell_type": "markdown",
      "metadata": {
        "id": "view-in-github",
        "colab_type": "text"
      },
      "source": [
        "<a href=\"https://colab.research.google.com/github/goyohanbada/KHS/blob/main/Untitled1.ipynb\" target=\"_parent\"><img src=\"https://colab.research.google.com/assets/colab-badge.svg\" alt=\"Open In Colab\"/></a>"
      ]
    },
    {
      "cell_type": "code",
      "metadata": {
        "id": "WcNVXMpCAPce"
      },
      "source": [
        "import numpy as np\n"
      ],
      "execution_count": null,
      "outputs": []
    },
    {
      "cell_type": "code",
      "metadata": {
        "colab": {
          "base_uri": "https://localhost:8080/"
        },
        "id": "--11oo1l-iWY",
        "outputId": "81c97fc8-86f4-4e93-a1c2-1fcff14b6139"
      },
      "source": [
        "import numpy as np\n",
        "A = np.array([[0, 1, -2.3, 0.1], [1.3, 4, -0.1, 0], [4.1,-1.0, 0, 1.7]])\n",
        "print(A)\n",
        "print(A.shape)\n"
      ],
      "execution_count": null,
      "outputs": [
        {
          "output_type": "stream",
          "name": "stdout",
          "text": [
            "[[ 0.   1.  -2.3  0.1]\n",
            " [ 1.3  4.  -0.1  0. ]\n",
            " [ 4.1 -1.   0.   1.7]]\n",
            "(3, 4)\n"
          ]
        }
      ]
    },
    {
      "cell_type": "code",
      "metadata": {
        "colab": {
          "base_uri": "https://localhost:8080/"
        },
        "id": "7udGE5Y6_oiu",
        "outputId": "657c409d-919d-4f16-afbd-e80a3c24bc9f"
      },
      "source": [
        "m,n = A.shape\n",
        "print('M of rows: ', m)\n",
        "print('n of cols:', n)"
      ],
      "execution_count": null,
      "outputs": [
        {
          "output_type": "stream",
          "name": "stdout",
          "text": [
            "M of rows:  3\n",
            "n of cols: 4\n"
          ]
        }
      ]
    },
    {
      "cell_type": "code",
      "metadata": {
        "colab": {
          "base_uri": "https://localhost:8080/"
        },
        "id": "_67PBQue_6Uv",
        "outputId": "9b3498f4-a72b-423e-da4e-293c54a7667d"
      },
      "source": [
        "tall = lambda X: A.shape[0] > A.shape[1]\n",
        "tall(A)\n"
      ],
      "execution_count": null,
      "outputs": [
        {
          "output_type": "execute_result",
          "data": {
            "text/plain": [
              "False"
            ]
          },
          "metadata": {},
          "execution_count": 5
        }
      ]
    },
    {
      "cell_type": "code",
      "metadata": {
        "colab": {
          "base_uri": "https://localhost:8080/"
        },
        "id": "nyVwpz4cAYPq",
        "outputId": "ce6ec5df-7900-4071-e432-19f67aabb188"
      },
      "source": [
        "wide = lambda X: A.shape[0] <  A.shape[1]\n",
        "wide(A)"
      ],
      "execution_count": null,
      "outputs": [
        {
          "output_type": "execute_result",
          "data": {
            "text/plain": [
              "True"
            ]
          },
          "metadata": {},
          "execution_count": 6
        }
      ]
    },
    {
      "cell_type": "code",
      "metadata": {
        "colab": {
          "base_uri": "https://localhost:8080/"
        },
        "id": "LyEhIIgAAcX0",
        "outputId": "f50b97fc-cadc-4722-8737-26f45b8fe305"
      },
      "source": [
        "A[0, 2]"
      ],
      "execution_count": null,
      "outputs": [
        {
          "output_type": "execute_result",
          "data": {
            "text/plain": [
              "-2.3"
            ]
          },
          "metadata": {},
          "execution_count": 7
        }
      ]
    },
    {
      "cell_type": "code",
      "metadata": {
        "colab": {
          "base_uri": "https://localhost:8080/"
        },
        "id": "47eEEfbWA6ZH",
        "outputId": "4537bdf5-09b4-4371-ac18-198d9378fdf6"
      },
      "source": [
        "A[0, 2] = 7.5\n",
        "A"
      ],
      "execution_count": null,
      "outputs": [
        {
          "output_type": "execute_result",
          "data": {
            "text/plain": [
              "array([[ 0. ,  1. ,  7.5,  0.1],\n",
              "       [ 1.3,  4. , -0.1,  0. ],\n",
              "       [ 4.1, -1. ,  0. ,  1.7]])"
            ]
          },
          "metadata": {},
          "execution_count": 8
        }
      ]
    },
    {
      "cell_type": "code",
      "metadata": {
        "colab": {
          "base_uri": "https://localhost:8080/"
        },
        "id": "eYKytQiSBC18",
        "outputId": "4785c467-a05e-4076-ce57-37f44b72ceb5"
      },
      "source": [
        "A = np.array([[0, 1, -2.3, 0.1], [1.3, 4, -0.1, 0], [4.1,-1.0, 0, 1.7]])\n",
        "B = A.copy()\n",
        "print(A == B)\n",
        "print(np.sum(A==B))"
      ],
      "execution_count": null,
      "outputs": [
        {
          "output_type": "stream",
          "name": "stdout",
          "text": [
            "[[ True  True  True  True]\n",
            " [ True  True  True  True]\n",
            " [ True  True  True  True]]\n",
            "12\n"
          ]
        }
      ]
    },
    {
      "cell_type": "code",
      "metadata": {
        "colab": {
          "base_uri": "https://localhost:8080/"
        },
        "id": "vuMNwzxqBRBa",
        "outputId": "f6673af1-f625-43fb-d622-1deea21828d6"
      },
      "source": [
        "B[0,3] = 100\n",
        "print(A==B) #True의 수를 반환하는 것과 동일하다.\n",
        "print(np.sum(A==B))"
      ],
      "execution_count": null,
      "outputs": [
        {
          "output_type": "stream",
          "name": "stdout",
          "text": [
            "[[ True  True  True False]\n",
            " [ True  True  True  True]\n",
            " [ True  True  True  True]]\n",
            "11\n"
          ]
        }
      ]
    },
    {
      "cell_type": "code",
      "metadata": {
        "colab": {
          "base_uri": "https://localhost:8080/"
        },
        "id": "ecnMeDiDCFLF",
        "outputId": "7da2600a-e426-4067-8562-34739090c1d5"
      },
      "source": [
        "#리스트를 사용 시 완전히 동일한 경우에만 true, false를 비교함\n",
        "# a 3 vector\n",
        "#행 벡터를 열벡터로 바꾸는 것 reshape 참고 사항 실습x\n",
        "#인덱싱 하는 것\n",
        "A = np.array([[-1, 0, 1, 0],[2, -3, 0, 1],[0, 4, -2, 1]])\n",
        "#항등 행렬의 결과가 나온다.\n",
        "A[0:2, 2:4]\n",
        "\n",
        "\n"
      ],
      "execution_count": null,
      "outputs": [
        {
          "output_type": "execute_result",
          "data": {
            "text/plain": [
              "array([[1, 0],\n",
              "       [0, 1]])"
            ]
          },
          "metadata": {},
          "execution_count": 11
        }
      ]
    },
    {
      "cell_type": "code",
      "metadata": {
        "colab": {
          "base_uri": "https://localhost:8080/"
        },
        "id": "Oe6TK18wEMkQ",
        "outputId": "f6707efa-eb57-4498-d687-9630c9a67e56"
      },
      "source": [
        "#세 번째 열을 갖고 싶다.\n",
        "print(A[0:3, 2:3])\n"
      ],
      "execution_count": null,
      "outputs": [
        {
          "output_type": "stream",
          "name": "stdout",
          "text": [
            "[[ 1]\n",
            " [ 0]\n",
            " [-2]]\n"
          ]
        }
      ]
    },
    {
      "cell_type": "code",
      "metadata": {
        "colab": {
          "base_uri": "https://localhost:8080/"
        },
        "id": "CsDp4R6TEVUB",
        "outputId": "5f704725-76ae-4a25-dbfe-39fda39da381"
      },
      "source": [
        "#간결한 표현, 열 벡터이긴 하지만, 행 벡터로 나온다.\n",
        "print(A[:, 2])"
      ],
      "execution_count": null,
      "outputs": [
        {
          "output_type": "stream",
          "name": "stdout",
          "text": [
            "[ 1  0 -2]\n"
          ]
        }
      ]
    },
    {
      "cell_type": "code",
      "metadata": {
        "colab": {
          "base_uri": "https://localhost:8080/"
        },
        "id": "RBGE9TxJEdrC",
        "outputId": "02f2adaa-54d2-4487-b4cb-806e19839f36"
      },
      "source": [
        "A[1, ]"
      ],
      "execution_count": null,
      "outputs": [
        {
          "output_type": "execute_result",
          "data": {
            "text/plain": [
              "array([ 2, -3,  0,  1])"
            ]
          },
          "metadata": {},
          "execution_count": 14
        }
      ]
    },
    {
      "cell_type": "code",
      "metadata": {
        "colab": {
          "base_uri": "https://localhost:8080/"
        },
        "id": "ZKWWTm6zEu2H",
        "outputId": "b9f31aa4-66c7-4098-dfe7-e37d3c37d9e5"
      },
      "source": [
        "A.reshape((6,2))"
      ],
      "execution_count": null,
      "outputs": [
        {
          "output_type": "execute_result",
          "data": {
            "text/plain": [
              "array([[-1,  0],\n",
              "       [ 1,  0],\n",
              "       [ 2, -3],\n",
              "       [ 0,  1],\n",
              "       [ 0,  4],\n",
              "       [-2,  1]])"
            ]
          },
          "metadata": {},
          "execution_count": 15
        }
      ]
    },
    {
      "cell_type": "code",
      "metadata": {
        "colab": {
          "base_uri": "https://localhost:8080/"
        },
        "id": "4KYjkMMUFRbb",
        "outputId": "cfd0391a-1c5d-4388-d5a4-26ad1c7b7111"
      },
      "source": [
        "A.reshape((4,3))"
      ],
      "execution_count": null,
      "outputs": [
        {
          "output_type": "execute_result",
          "data": {
            "text/plain": [
              "array([[-1,  0,  1],\n",
              "       [ 0,  2, -3],\n",
              "       [ 0,  1,  0],\n",
              "       [ 4, -2,  1]])"
            ]
          },
          "metadata": {},
          "execution_count": 16
        }
      ]
    },
    {
      "cell_type": "code",
      "metadata": {
        "colab": {
          "base_uri": "https://localhost:8080/"
        },
        "id": "kumMPJbdFWeb",
        "outputId": "daeca7e9-ed2c-46eb-8d07-a602cae7756a"
      },
      "source": [
        "A.reshape((1,12))"
      ],
      "execution_count": null,
      "outputs": [
        {
          "output_type": "execute_result",
          "data": {
            "text/plain": [
              "array([[-1,  0,  1,  0,  2, -3,  0,  1,  0,  4, -2,  1]])"
            ]
          },
          "metadata": {},
          "execution_count": 17
        }
      ]
    },
    {
      "cell_type": "code",
      "metadata": {
        "colab": {
          "base_uri": "https://localhost:8080/",
          "height": 172
        },
        "id": "zUKAdjCNFZ-V",
        "outputId": "f9c37712-75f5-4095-86e8-be602a7735d0"
      },
      "source": [
        "#이건 안된다. 수가 달라서-무슨 수지?\n",
        "A.reshape((3,2))"
      ],
      "execution_count": null,
      "outputs": [
        {
          "output_type": "error",
          "ename": "ValueError",
          "evalue": "ignored",
          "traceback": [
            "\u001b[0;31m---------------------------------------------------------------------------\u001b[0m",
            "\u001b[0;31mValueError\u001b[0m                                Traceback (most recent call last)",
            "\u001b[0;32m<ipython-input-49-dcf4d896d08c>\u001b[0m in \u001b[0;36m<module>\u001b[0;34m()\u001b[0m\n\u001b[0;32m----> 1\u001b[0;31m \u001b[0mA\u001b[0m\u001b[0;34m.\u001b[0m\u001b[0mreshape\u001b[0m\u001b[0;34m(\u001b[0m\u001b[0;34m(\u001b[0m\u001b[0;36m3\u001b[0m\u001b[0;34m,\u001b[0m\u001b[0;36m2\u001b[0m\u001b[0;34m)\u001b[0m\u001b[0;34m)\u001b[0m\u001b[0;34m\u001b[0m\u001b[0;34m\u001b[0m\u001b[0m\n\u001b[0m",
            "\u001b[0;31mValueError\u001b[0m: cannot reshape array of size 12 into shape (3,2)"
          ]
        }
      ]
    },
    {
      "cell_type": "code",
      "metadata": {
        "colab": {
          "base_uri": "https://localhost:8080/"
        },
        "id": "6Bi0tUdtFgTr",
        "outputId": "2e4b9e80-b074-40db-e753-f1d5abd4e786"
      },
      "source": [
        "#block이라는 함수를 이용해서 sub벡터들을 행렬로 표현가능 하지만 행과 열이 일치해야 가능\n",
        "B = np.array([0, 2, 3])\n",
        "C = np.array([-1])\n",
        "D = np.array([[2, 2, 1], [1, 3, 5]])\n",
        "E = np.array([[4], [-4]])\n",
        "\n",
        "A = np.block([[B,C],[D, E]])\n",
        "A"
      ],
      "execution_count": null,
      "outputs": [
        {
          "output_type": "execute_result",
          "data": {
            "text/plain": [
              "array([[ 0,  2,  3, -1],\n",
              "       [ 2,  2,  1,  4],\n",
              "       [ 1,  3,  5, -4]])"
            ]
          },
          "metadata": {},
          "execution_count": 18
        }
      ]
    },
    {
      "cell_type": "code",
      "metadata": {
        "colab": {
          "base_uri": "https://localhost:8080/"
        },
        "id": "Ab319JM2GelK",
        "outputId": "a5092492-00bc-43dd-8799-8567f2650b83"
      },
      "source": [
        "#수직 방향으로\n",
        "a = [1, 2]\n",
        "b = [4, 5]\n",
        "c = [7, 8]\n",
        "\n",
        "A = np.vstack([a, b, c])\n",
        "B = np.hstack([a, b, c])\n",
        "print(A)\n",
        "print(B)"
      ],
      "execution_count": null,
      "outputs": [
        {
          "output_type": "stream",
          "name": "stdout",
          "text": [
            "[[1 2]\n",
            " [4 5]\n",
            " [7 8]]\n",
            "[1 2 4 5 7 8]\n"
          ]
        }
      ]
    },
    {
      "cell_type": "code",
      "metadata": {
        "colab": {
          "base_uri": "https://localhost:8080/"
        },
        "id": "HWGxOa2GGr0H",
        "outputId": "4c8f7c5c-5dcc-498d-b620-e17a1f93ef2f"
      },
      "source": [
        "a = [[1], [2]]\n",
        "b = [[4], [5]]\n",
        "c = [[7], [8]]\n",
        "\n",
        "A = np.vstack([a, b, c])\n",
        "B = np.hstack([a, b, c])\n",
        "print(A)\n",
        "print(B)"
      ],
      "execution_count": null,
      "outputs": [
        {
          "output_type": "stream",
          "name": "stdout",
          "text": [
            "[[1]\n",
            " [2]\n",
            " [4]\n",
            " [5]\n",
            " [7]\n",
            " [8]]\n",
            "[[1 4 7]\n",
            " [2 5 8]]\n"
          ]
        }
      ]
    },
    {
      "cell_type": "code",
      "metadata": {
        "colab": {
          "base_uri": "https://localhost:8080/"
        },
        "id": "of_vTX83Ho3M",
        "outputId": "bc28bd06-b5b3-4a58-c5d3-8659c774d372"
      },
      "source": [
        "np.zeros((4,3))"
      ],
      "execution_count": null,
      "outputs": [
        {
          "output_type": "execute_result",
          "data": {
            "text/plain": [
              "array([[0., 0., 0.],\n",
              "       [0., 0., 0.],\n",
              "       [0., 0., 0.],\n",
              "       [0., 0., 0.]])"
            ]
          },
          "metadata": {},
          "execution_count": 21
        }
      ]
    },
    {
      "cell_type": "code",
      "metadata": {
        "colab": {
          "base_uri": "https://localhost:8080/"
        },
        "id": "SIYZ84AaJIco",
        "outputId": "03334250-5912-4702-cbe7-bc1455922929"
      },
      "source": [
        "np.ones((3,4))"
      ],
      "execution_count": null,
      "outputs": [
        {
          "output_type": "execute_result",
          "data": {
            "text/plain": [
              "array([[1., 1., 1., 1.],\n",
              "       [1., 1., 1., 1.],\n",
              "       [1., 1., 1., 1.]])"
            ]
          },
          "metadata": {},
          "execution_count": 22
        }
      ]
    },
    {
      "cell_type": "code",
      "metadata": {
        "colab": {
          "base_uri": "https://localhost:8080/"
        },
        "id": "nRypY-hgJLF6",
        "outputId": "d637561e-a9a9-47ee-df2e-8775a276c863"
      },
      "source": [
        "np.identity(4)"
      ],
      "execution_count": null,
      "outputs": [
        {
          "output_type": "execute_result",
          "data": {
            "text/plain": [
              "array([[1., 0., 0., 0.],\n",
              "       [0., 1., 0., 0.],\n",
              "       [0., 0., 1., 0.],\n",
              "       [0., 0., 0., 1.]])"
            ]
          },
          "metadata": {},
          "execution_count": 23
        }
      ]
    },
    {
      "cell_type": "code",
      "metadata": {
        "colab": {
          "base_uri": "https://localhost:8080/"
        },
        "id": "U8Pahgk4JOXv",
        "outputId": "c1b2b930-3559-4ef7-ffbe-9b63cfdf211a"
      },
      "source": [
        "X = np.array([[0,1,2],[3,4,5], [6, 7, 8]])\n",
        "V = np.diag(X)\n",
        "V"
      ],
      "execution_count": null,
      "outputs": [
        {
          "output_type": "execute_result",
          "data": {
            "text/plain": [
              "array([0, 4, 8])"
            ]
          },
          "metadata": {},
          "execution_count": 24
        }
      ]
    },
    {
      "cell_type": "code",
      "metadata": {
        "colab": {
          "base_uri": "https://localhost:8080/"
        },
        "id": "Xl9gg3qsJdIm",
        "outputId": "77823be2-d7ff-4e5e-f2e7-2ab17a88281f"
      },
      "source": [
        "y = np.diag(V)\n",
        "y"
      ],
      "execution_count": null,
      "outputs": [
        {
          "output_type": "execute_result",
          "data": {
            "text/plain": [
              "array([[0, 0, 0],\n",
              "       [0, 4, 0],\n",
              "       [0, 0, 8]])"
            ]
          },
          "metadata": {},
          "execution_count": 25
        }
      ]
    },
    {
      "cell_type": "code",
      "metadata": {
        "colab": {
          "base_uri": "https://localhost:8080/"
        },
        "id": "7aKJGIXbJlGn",
        "outputId": "cd684567-4499-43ae-cd0f-ab0a5fe883a0"
      },
      "source": [
        "np.random.random((3, 4))"
      ],
      "execution_count": null,
      "outputs": [
        {
          "output_type": "execute_result",
          "data": {
            "text/plain": [
              "array([[0.76847111, 0.86360838, 0.75483911, 0.35499743],\n",
              "       [0.32546715, 0.15273473, 0.75377967, 0.53105586],\n",
              "       [0.42668563, 0.04361144, 0.5606178 , 0.40992155]])"
            ]
          },
          "metadata": {},
          "execution_count": 26
        }
      ]
    },
    {
      "cell_type": "code",
      "metadata": {
        "id": "5YCQ5hLDJ2XJ",
        "colab": {
          "base_uri": "https://localhost:8080/"
        },
        "outputId": "1d4a42f8-e8e3-4d88-cb0c-6b384f6b6424"
      },
      "source": [
        "np.random.randn(3, 4)"
      ],
      "execution_count": null,
      "outputs": [
        {
          "output_type": "execute_result",
          "data": {
            "text/plain": [
              "array([[-0.02307733, -0.15230461, -0.69531406,  1.79453191],\n",
              "       [-0.55716689,  1.82421877, -1.03559988,  1.34354815],\n",
              "       [-1.76398755, -0.62655402,  1.34195751,  0.10176436]])"
            ]
          },
          "metadata": {},
          "execution_count": 27
        }
      ]
    },
    {
      "cell_type": "code",
      "metadata": {
        "colab": {
          "base_uri": "https://localhost:8080/"
        },
        "id": "JXI_x1STJ21u",
        "outputId": "189c93bf-d63b-42d3-dc7f-6e2b94388ccc"
      },
      "source": [
        "H = np.array([[0,1,-2,1],[2,-1,3,0]])\n",
        "H"
      ],
      "execution_count": null,
      "outputs": [
        {
          "output_type": "execute_result",
          "data": {
            "text/plain": [
              "array([[ 0,  1, -2,  1],\n",
              "       [ 2, -1,  3,  0]])"
            ]
          },
          "metadata": {},
          "execution_count": 28
        }
      ]
    },
    {
      "cell_type": "code",
      "metadata": {
        "id": "-jtEJKUbMNNO",
        "colab": {
          "base_uri": "https://localhost:8080/"
        },
        "outputId": "71b53d9b-e67d-4f24-dfb8-948e8b04fc0d"
      },
      "source": [
        "H.T"
      ],
      "execution_count": null,
      "outputs": [
        {
          "output_type": "execute_result",
          "data": {
            "text/plain": [
              "array([[ 0,  2],\n",
              "       [ 1, -1],\n",
              "       [-2,  3],\n",
              "       [ 1,  0]])"
            ]
          },
          "metadata": {},
          "execution_count": 29
        }
      ]
    },
    {
      "cell_type": "code",
      "metadata": {
        "colab": {
          "base_uri": "https://localhost:8080/"
        },
        "id": "9DQYZNWqMTjW",
        "outputId": "f40241e8-9f9e-4760-abc6-89908132939d"
      },
      "source": [
        "np.transpose(H)"
      ],
      "execution_count": null,
      "outputs": [
        {
          "output_type": "execute_result",
          "data": {
            "text/plain": [
              "array([[ 0,  2],\n",
              "       [ 1, -1],\n",
              "       [-2,  3],\n",
              "       [ 1,  0]])"
            ]
          },
          "metadata": {},
          "execution_count": 30
        }
      ]
    },
    {
      "cell_type": "code",
      "metadata": {
        "colab": {
          "base_uri": "https://localhost:8080/"
        },
        "id": "wPE-h4lPMYd0",
        "outputId": "65fec571-5a02-40a0-cd8f-e5ee778f011c"
      },
      "source": [
        "U = np.array([[0,4],[7,0], [3,1]])\n",
        "Y = np.array([[1,2],[2,3], [0,4]])\n",
        "U + Y"
      ],
      "execution_count": null,
      "outputs": [
        {
          "output_type": "execute_result",
          "data": {
            "text/plain": [
              "array([[1, 6],\n",
              "       [9, 3],\n",
              "       [3, 5]])"
            ]
          },
          "metadata": {},
          "execution_count": 31
        }
      ]
    },
    {
      "cell_type": "code",
      "metadata": {
        "colab": {
          "base_uri": "https://localhost:8080/"
        },
        "id": "sMIw2gWXMq0F",
        "outputId": "1016aa69-332b-42b8-cbd8-e6740802f607"
      },
      "source": [
        "2.2*U"
      ],
      "execution_count": null,
      "outputs": [
        {
          "output_type": "execute_result",
          "data": {
            "text/plain": [
              "array([[ 0. ,  8.8],\n",
              "       [15.4,  0. ],\n",
              "       [ 6.6,  2.2]])"
            ]
          },
          "metadata": {},
          "execution_count": 32
        }
      ]
    },
    {
      "cell_type": "code",
      "metadata": {
        "id": "7UZJbID4Ms7_",
        "colab": {
          "base_uri": "https://localhost:8080/"
        },
        "outputId": "de79468a-3638-47f8-e7dd-d85a9ce7f38d"
      },
      "source": [
        "A = np.array([[2,3,-1],[0,-1,4]])\n",
        "np.linalg.norm(A)"
      ],
      "execution_count": null,
      "outputs": [
        {
          "output_type": "execute_result",
          "data": {
            "text/plain": [
              "5.5677643628300215"
            ]
          },
          "metadata": {},
          "execution_count": 35
        }
      ]
    },
    {
      "cell_type": "code",
      "metadata": {
        "id": "Fpq0f9lONgUu",
        "colab": {
          "base_uri": "https://localhost:8080/"
        },
        "outputId": "3fb7b412-e0cd-4bec-ab2c-040cd056ec55"
      },
      "source": [
        "A = np.array([[0,2,-1],[-2,1,1]])\n",
        "X = np.array([2, 1, -1])\n",
        "A @ X"
      ],
      "execution_count": null,
      "outputs": [
        {
          "output_type": "execute_result",
          "data": {
            "text/plain": [
              "array([ 3, -4])"
            ]
          },
          "metadata": {},
          "execution_count": 37
        }
      ]
    },
    {
      "cell_type": "code",
      "metadata": {
        "colab": {
          "base_uri": "https://localhost:8080/"
        },
        "id": "Fqq6nkptNg47",
        "outputId": "c0bf7ca2-83db-45f6-f058-896dab7cca00"
      },
      "source": [
        "Rot = lambda theta: [[np.cos(theta), -np.sin(theta)], [np.sin(theta), np.cos(theta)]]\n",
        "R = Rot(np.pi/2)\n",
        "R"
      ],
      "execution_count": null,
      "outputs": [
        {
          "output_type": "execute_result",
          "data": {
            "text/plain": [
              "[[6.123233995736766e-17, -1.0], [1.0, 6.123233995736766e-17]]"
            ]
          },
          "metadata": {},
          "execution_count": 46
        }
      ]
    },
    {
      "cell_type": "code",
      "metadata": {
        "id": "Mwy-uvs6OBAM"
      },
      "source": [
        "points = np.array([[1, 0], [1.5,0],[2, 0], [1, 0.25], [1.5,0.25],[1, 0.5]])"
      ],
      "execution_count": null,
      "outputs": []
    },
    {
      "cell_type": "code",
      "metadata": {
        "id": "3zii8sKTOGs1"
      },
      "source": [
        "rpoints = np.array([R @ p for p in points])"
      ],
      "execution_count": null,
      "outputs": []
    },
    {
      "cell_type": "code",
      "metadata": {
        "id": "Qm5T3LlKOIrt",
        "colab": {
          "base_uri": "https://localhost:8080/"
        },
        "outputId": "77dcd51b-6fe5-40b1-9f2b-9ff64c608f07"
      },
      "source": [
        "print(points)\n",
        "print(rpoints)"
      ],
      "execution_count": null,
      "outputs": [
        {
          "output_type": "stream",
          "name": "stdout",
          "text": [
            "[[1.   0.  ]\n",
            " [1.5  0.  ]\n",
            " [2.   0.  ]\n",
            " [1.   0.25]\n",
            " [1.5  0.25]\n",
            " [1.   0.5 ]]\n",
            "[[ 6.12323400e-17  1.00000000e+00]\n",
            " [ 9.18485099e-17  1.50000000e+00]\n",
            " [ 1.22464680e-16  2.00000000e+00]\n",
            " [-2.50000000e-01  1.00000000e+00]\n",
            " [-2.50000000e-01  1.50000000e+00]\n",
            " [-5.00000000e-01  1.00000000e+00]]\n"
          ]
        }
      ]
    },
    {
      "cell_type": "code",
      "metadata": {
        "id": "AIH8DDF5OLzM",
        "colab": {
          "base_uri": "https://localhost:8080/",
          "height": 265
        },
        "outputId": "9bdcaeaa-4961-479a-8968-01c93fcb5d7e"
      },
      "source": [
        "import matplotlib.pyplot as plt\n",
        "plt.ion()\n",
        "plt.scatter([c[0] for c in points], [c[1] for c in points])\n",
        "plt.scatter([c[0] for c in rpoints], [c[1] for c in rpoints])\n",
        "plt.show()"
      ],
      "execution_count": null,
      "outputs": [
        {
          "output_type": "display_data",
          "data": {
            "image/png": "[encoded data removed]",
            "text/plain": [
              "<Figure size 432x288 with 1 Axes>"
            ]
          },
          "metadata": {
            "needs_background": "light"
          }
        }
      ]
    }
  ]
}